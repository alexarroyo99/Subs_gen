{
  "cells": [
    {
      "cell_type": "markdown",
      "metadata": {
        "id": "view-in-github",
        "colab_type": "text"
      },
      "source": [
        "<a href=\"https://colab.research.google.com/github/alexarroyo99/subs_gen/blob/main/Subs_generator_by_Alex_Arroyo.ipynb\" target=\"_parent\"><img src=\"https://colab.research.google.com/assets/colab-badge.svg\" alt=\"Open In Colab\"/></a>"
      ]
    },
    {
      "cell_type": "code",
      "execution_count": null,
      "metadata": {
        "id": "oaeZGE5hBneh"
      },
      "outputs": [],
      "source": [
        "#@title 🔧 Configurarcion inicial\n",
        "\n",
        "!pip install git+https://github.com/openai/whisper.git &> /dev/null\n",
        "!pip install jiwer &> /dev/null\n",
        "!pip install moviepy --upgrade &> /dev/null\n",
        "!apt-get update &> /dev/null\n",
        "!apt-get -y install ffmpeg imagemagick &> /dev/null\n",
        "!export FFMPEG_BINARY='/usr/bin/ffmpeg' &> /dev/null\n",
        "!export IMAGEMAGICK_BINARY='/usr/bin/convert' &> /dev/null\n",
        "!sed -i '70d' ~/../etc/ImageMagick-6/policy.xml &> /dev/null\n",
        "!sed -i '71d' ~/../etc/ImageMagick-6/policy.xml &> /dev/null\n",
        "!sed -i '40d' ~/../etc/ImageMagick-6/policy.xml &> /dev/null\n",
        "\n",
        "import whisper\n",
        "import cv2\n",
        "import pandas as pd\n",
        "from moviepy.editor import *\n",
        "from moviepy.video.tools.subtitles import SubtitlesClip\n",
        "\n",
        "def gen_subs(uploaded_video):\n",
        "  vid = VideoFileClip(uploaded_video)\n",
        "  vid.audio.write_audiofile(\"audio.mp3\")\n",
        "\n",
        "  model = whisper.load_model(\"medium\")\n",
        "  result = model.transcribe(\"audio.mp3\")\n",
        "\n",
        "  dict1 = {'start':[], 'end':[], 'text':[]}\n",
        "  for i in result['segments']:\n",
        "      dict1['start'].append(int(i['start']))\n",
        "      dict1['end'].append(int(i['end']))\n",
        "      dict1['text'].append(i['text'])\n",
        "  df = pd.DataFrame.from_dict(dict1)\n",
        "  df.to_csv(\"subs.csv\")\n",
        "  vidcap = cv2.VideoCapture(uploaded_video)\n",
        "  # success,image = vidcap.read()\n",
        "  # height = image.shape[0]\n",
        "  # width =image.shape[1]\n",
        "\n",
        "  generator = lambda txt: TextClip(txt, color='white', fontsize=20, font='Georgia-Regular',stroke_width=3, method='caption', align='south', size=vid.size)\n",
        "  subs = tuple(zip(tuple(zip(df['start'].values, df['end'].values)), df['text'].values))\n",
        "  subtitles = SubtitlesClip(subs, generator)\n",
        "\n",
        "  final = CompositeVideoClip([vid, subtitles.set_pos(('center','bottom'))])\n",
        "  final.write_videofile('output.mp4', fps=vid.fps, remove_temp=True, codec=\"libx264\", audio_codec=\"aac\")"
      ]
    },
    {
      "cell_type": "code",
      "execution_count": null,
      "metadata": {
        "id": "f0E84tyaJQZ-"
      },
      "outputs": [],
      "source": [
        "#@title 🎥 Cargar video\n",
        "from google.colab import files\n",
        "\n",
        "uploaded = files.upload()\n",
        "\n",
        "video = list(uploaded.keys())[0]"
      ]
    },
    {
      "cell_type": "code",
      "execution_count": null,
      "metadata": {
        "colab": {
          "background_save": true
        },
        "id": "mduKHsouQKJk"
      },
      "outputs": [],
      "source": [
        "#@title 🔤 Generar subtitulos\n",
        "from IPython.display import HTML\n",
        "from base64 import b64encode\n",
        "\n",
        "gen_subs(video)\n",
        "\n",
        "mp4 = open('output.mp4','rb').read()\n",
        "data_url = \"data:video/mp4;base64,\" + b64encode(mp4).decode()\n",
        "HTML(\"\"\"\n",
        "<video width=400 controls>\n",
        "      <source src=\"%s\" type=\"video/mp4\">\n",
        "</video>\n",
        "\"\"\" % data_url)"
      ]
    }
  ],
  "metadata": {
    "accelerator": "GPU",
    "colab": {
      "provenance": [],
      "private_outputs": true,
      "authorship_tag": "ABX9TyMmwRcG51OT7Ip6GFjUsojp",
      "include_colab_link": true
    },
    "gpuClass": "standard",
    "kernelspec": {
      "display_name": "Python 3",
      "name": "python3"
    },
    "language_info": {
      "name": "python"
    }
  },
  "nbformat": 4,
  "nbformat_minor": 0
}